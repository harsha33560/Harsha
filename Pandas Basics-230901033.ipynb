{
 "cells": [
  {
   "cell_type": "code",
   "execution_count": 2,
   "id": "b55f019f",
   "metadata": {},
   "outputs": [
    {
     "name": "stdout",
     "output_type": "stream",
     "text": [
      "Empty DataFrame\n",
      "Columns: []\n",
      "Index: []\n"
     ]
    }
   ],
   "source": [
    "import pandas as pd\n",
    "df=pd.DataFrame()\n",
    "print(df)"
   ]
  },
  {
   "cell_type": "code",
   "execution_count": 9,
   "id": "8b9e53fe",
   "metadata": {},
   "outputs": [
    {
     "name": "stdout",
     "output_type": "stream",
     "text": [
      "\n",
      "Series to DataFrame\n",
      "\n",
      "      Emp  ID\n",
      "0     Uma  10\n",
      "1  Harsha  20\n",
      "2  Sindhu  30\n",
      "3    Nair  40\n"
     ]
    }
   ],
   "source": [
    "import pandas as pd\n",
    "emp=pd.Series(['Uma','Harsha','Sindhu','Nair'])\n",
    "id=pd.Series([10,20,30,40])\n",
    "Frame={'Emp':emp,'ID':id}\n",
    "Result=pd.DataFrame(Frame)\n",
    "print(\"\\nSeries to DataFrame\\n\")\n",
    "print(Result)"
   ]
  },
  {
   "cell_type": "code",
   "execution_count": 11,
   "id": "155997fb",
   "metadata": {},
   "outputs": [
    {
     "name": "stdout",
     "output_type": "stream",
     "text": [
      "\n",
      " Extracting the second row \n",
      "\n",
      "      Emp  ID\n",
      "0     Uma  10\n",
      "1  Harsha  20\n",
      "2  Sindhu  30\n",
      "3    Nair  40\n"
     ]
    }
   ],
   "source": [
    "print(\"\\n Extracting the second row \\n\")\n",
    "print(Result)"
   ]
  },
  {
   "cell_type": "code",
   "execution_count": 16,
   "id": "a18b53e8",
   "metadata": {},
   "outputs": [
    {
     "name": "stdout",
     "output_type": "stream",
     "text": [
      "      Emp  ID  Age\n",
      "0     Uma  10   20\n",
      "1  Harsha  20   18\n",
      "2  Sindhu  30   20\n",
      "3    Nair  40   50\n"
     ]
    }
   ],
   "source": [
    "Result['Age']=pd.Series([20,18,20,50])\n",
    "print(Result)"
   ]
  },
  {
   "cell_type": "raw",
   "id": "2719ea3b",
   "metadata": {},
   "source": []
  },
  {
   "cell_type": "code",
   "execution_count": 17,
   "id": "aeccfd61",
   "metadata": {},
   "outputs": [
    {
     "name": "stdout",
     "output_type": "stream",
     "text": [
      "      Emp  ID\n",
      "0     Uma  10\n",
      "1  Harsha  20\n",
      "2  Sindhu  30\n",
      "3    Nair  40\n"
     ]
    }
   ],
   "source": [
    "del Result['Age']\n",
    "print(Result)\n"
   ]
  },
  {
   "cell_type": "code",
   "execution_count": 19,
   "id": "a9ea7b12",
   "metadata": {},
   "outputs": [
    {
     "name": "stdout",
     "output_type": "stream",
     "text": [
      "Slice Row\n",
      "       Emp  ID\n",
      "1  Harsha  20\n",
      "2  Sindhu  30\n"
     ]
    }
   ],
   "source": [
    "print(\"Slice Row\\n\",Result[1:3])\n"
   ]
  },
  {
   "cell_type": "code",
   "execution_count": 20,
   "id": "72fc135c",
   "metadata": {},
   "outputs": [
    {
     "name": "stdout",
     "output_type": "stream",
     "text": [
      "\n",
      " Extracting the second row \n",
      "\n",
      "Emp    Harsha\n",
      "ID         20\n",
      "Name: 1, dtype: object\n"
     ]
    }
   ],
   "source": [
    "print(\"\\n Extracting the second row \\n\")\n",
    "print(Result.loc[1])\n"
   ]
  },
  {
   "cell_type": "code",
   "execution_count": null,
   "id": "9614865a",
   "metadata": {},
   "outputs": [],
   "source": [
    "a2=pd.DataFrame([['Uma',10],['Harsha',20]],column=['Emp',ID])\n",
    "print('\\n Adding new row values \\n\\n',pd.connt6ac)\n"
   ]
  }
 ],
 "metadata": {
  "kernelspec": {
   "display_name": "Python 3 (ipykernel)",
   "language": "python",
   "name": "python3"
  },
  "language_info": {
   "codemirror_mode": {
    "name": "ipython",
    "version": 3
   },
   "file_extension": ".py",
   "mimetype": "text/x-python",
   "name": "python",
   "nbconvert_exporter": "python",
   "pygments_lexer": "ipython3",
   "version": "3.11.4"
  }
 },
 "nbformat": 4,
 "nbformat_minor": 5
}
