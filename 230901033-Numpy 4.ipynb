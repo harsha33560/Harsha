{
 "cells": [
  {
   "cell_type": "code",
   "execution_count": 3,
   "id": "1160c0f7",
   "metadata": {},
   "outputs": [
    {
     "name": "stdout",
     "output_type": "stream",
     "text": [
      "[20 40 50 70 10]\n",
      "[6 2 9 7 1]\n",
      "[26 42 59 77 11]\n",
      "[14 38 41 63  9]\n",
      "[120  80 450 490  10]\n",
      "[ 3.33333333 20.          5.55555556 10.         10.        ]\n"
     ]
    }
   ],
   "source": [
    "import numpy as np\n",
    "arr1=[20,40,50,70,10]\n",
    "arr2=[6,2,9,7,1]\n",
    "a=np.array(arr1)\n",
    "b=np.array(arr2)\n",
    "print(a)\n",
    "print(b)\n",
    "print(a+b)\n",
    "print(a-b)\n",
    "print(a*b)\n",
    "print(a/b)"
   ]
  },
  {
   "cell_type": "code",
   "execution_count": 4,
   "id": "865f73e4",
   "metadata": {},
   "outputs": [
    {
     "name": "stdout",
     "output_type": "stream",
     "text": [
      "1150\n",
      "sclr value: 3\n",
      "Array: [20 40 50 70 10]\n",
      "Result [ 60 120 150 210  30]\n"
     ]
    }
   ],
   "source": [
    "print(a.dot(b))\n",
    "sclr=3\n",
    "print(\"sclr value:\",sclr)\n",
    "print(\"Array:\",a)\n",
    "print(\"Result\",a*sclr)"
   ]
  },
  {
   "cell_type": "code",
   "execution_count": 5,
   "id": "f6520e55",
   "metadata": {},
   "outputs": [],
   "source": []
  },
  {
   "cell_type": "code",
   "execution_count": 7,
   "id": "25e38020",
   "metadata": {},
   "outputs": [
    {
     "name": "stdout",
     "output_type": "stream",
     "text": [
      "[[1 6]\n",
      " [0 4]]\n"
     ]
    }
   ],
   "source": [
    "a=np.array([[10,20],[30,40]])\n",
    "b=np.array([[3,7],[5,9]])\n",
    "print(a%b)"
   ]
  },
  {
   "cell_type": "code",
   "execution_count": 11,
   "id": "43eb06be",
   "metadata": {},
   "outputs": [
    {
     "name": "stdout",
     "output_type": "stream",
     "text": [
      "Array1: [10, 7, 2]\n",
      "Array2: [6, 5, 3]\n",
      "Result: [4 2 5]\n"
     ]
    }
   ],
   "source": [
    "def my_fun(X,Y):\n",
    "    if(X>Y):\n",
    "        return X-Y\n",
    "    else:\n",
    "        return X+Y\n",
    "arr1=[10,7,2]\n",
    "arr2=[6,5,3]\n",
    "vect_fun=np.vectorize(my_fun)\n",
    "print(\"Array1:\",arr1)\n",
    "print(\"Array2:\",arr2)\n",
    "print(\"Result:\",vect_fun(arr1,arr2))"
   ]
  },
  {
   "cell_type": "code",
   "execution_count": null,
   "id": "4e5fdb1b",
   "metadata": {},
   "outputs": [],
   "source": []
  }
 ],
 "metadata": {
  "kernelspec": {
   "display_name": "Python 3 (ipykernel)",
   "language": "python",
   "name": "python3"
  },
  "language_info": {
   "codemirror_mode": {
    "name": "ipython",
    "version": 3
   },
   "file_extension": ".py",
   "mimetype": "text/x-python",
   "name": "python",
   "nbconvert_exporter": "python",
   "pygments_lexer": "ipython3",
   "version": "3.11.4"
  }
 },
 "nbformat": 4,
 "nbformat_minor": 5
}
