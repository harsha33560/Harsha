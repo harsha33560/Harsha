#!/usr/bin/env python
# coding: utf-8

# In[1]:


import pandas as pd
d1={"Name":['sai','sub','poo'],"Age":[19,23,21]}
d2={"Qualified":[True,False,True]}


# In[3]:


df1=pd.DataFrame(d1)
print(df1)
df2=pd.DataFrame(d2)
print(df2)
#Join function
newdf=df1.join(df2)
print(newdf)


# In[13]:


#MERGE function
d1={"Name":['sai','sub','poo'],"Age":[19,23,21]}
d2={"Name":['Anbu','doss','guru'],"Age":[19,23,21]}
df1=pd.DataFrame(d1)
print(df1)
df2=pd.DataFrame(d2)
print(df2)
newdf1=(df2.merge(df1,on="Age",how="right"))
newdf2=(df1.merge(df2,on="Age",how="left"))
print(newdf1)
print(newdf2)


# In[4]:


import pandas as pd
df=pd.DataFrame({'team':['A','B','C','D'],'points':[90,56,78,88],'assists':[12,34,23,44],'rebounds':[56,43,55,12]})
print(df)
df=pd.melt(df,id_vars='team',value_vars=['points','assists','rebounds'])
print(df)


# In[8]:


#Assign data
data={'Name':['Sai','Yuvasri','Poovannan',
'Sabharish','Sangamithra','Rithika','Rubasri'],
'Age':[20,18,19,20,18,17,19],
'Gender':['M','F','M','M','F','F','F'],
'Marks':[90,76,'NaN',74,65,'NaN',71]}



# In[9]:


#convert into datafram
df=pd.DataFrame(data)


# In[6]:


#display data
print("Original DataFrame:\n",df)
#convert average
c=avg=0
for ele in df['Marks']:
    if str(ele).isnumeric():
        c+=1
avg+=ele
avg/=c


# In[12]:


#Replace missing values
df=df.replace(to_replace="NaN",value=avg)


# In[13]:


#Display data
print("\nReplacing NaN with average marks:\n",df)


# In[14]:


#Filter top scoring students
df=df[df['Marks']>=75]


# In[10]:


import pandas as pd
df=pd.DataFrame({'team':['A','B','C','D'],'points':[90,56,78,88],'assists':[12,34,23,44],'rebounds':[56,43,55,12]})
print(df)
df=pd.melt(df,id_vars='team',value_vars=['points','assists','rebounds'])
print("\nreshaped DataFrame\n",df) 


# In[11]:


import pandas as pd
d1={
"name":["sai","sub","poo"],
"age":[20,21,22]
}
d2={
"qualified":[True,True,False]
}
df1=pd.DataFrame(d1)
print("DF1:\n",df1)
df2=pd.DataFrame(d2)
print("DF2:\n",df2)
newdf=df1.join(df2)
print("Joining:\n",newdf)


# In[14]:


df1=pd.DataFrame([[11,12],[3,4]])
df2=pd.DataFrame([[5,6],[7,8]])
def myfunc(a,b):
    if(a.sum()>b.sum()):
        return a
    else:
        return b
    print(df1)
    print(df2)
    print(df1.combine(df2,myfunc))


# In[15]:


d1={
"name":["sai","sub","poo"],
"age":[20,21,22]
}
d2={
"name":["yuvi","rithika","sanjay"],
"age":[15,16,17]
}
df1=pd.DataFrame(d1)
print("DF1:\n",df1)
df2=pd.DataFrame(d2)
print("DF2:\n",df2)
newdf1=df1.merge(df2, how='left')
newdf2=df1.merge(df2, how='right')
print("Left Merge:\n",newdf1)
print("Rgiht Merge:\n",newdf2)


# In[ ]:




