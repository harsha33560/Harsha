{
 "cells": [
  {
   "cell_type": "code",
   "execution_count": 2,
   "id": "383f20d2",
   "metadata": {},
   "outputs": [
    {
     "name": "stdout",
     "output_type": "stream",
     "text": [
      "{'Name': ['Sai', 'Yuvasri', 'Poovannan', 'Sabharish', 'Sangamithra', 'Rithika', 'Rubasri'], 'Age': [20, 18, 19, 20, 18, 17, 19], 'Gender': ['M', 'F', 'M', 'M', 'F', 'F', 'F'], 'Marks': [90, 76, 'NaN', 74, 65, 'NaN', 71]}\n"
     ]
    }
   ],
   "source": [
    "import pandas as pd\n",
    "#Assign data\n",
    "data={'Name':['Sai','Yuvasri','Poovannan',\n",
    "'Sabharish','Sangamithra','Rithika','Rubasri'],\n",
    "'Age':[20,18,19,20,18,17,19],\n",
    "'Gender':['M','F','M','M','F','F','F'],\n",
    "'Marks':[90,76,'NaN',74,65,'NaN',71]}\n",
    "print(data)"
   ]
  },
  {
   "cell_type": "code",
   "execution_count": 4,
   "id": "d0b09cf0",
   "metadata": {},
   "outputs": [
    {
     "name": "stdout",
     "output_type": "stream",
     "text": [
      "Original DataFrame:\n",
      "           Name  Age Gender Marks\n",
      "0          Sai   20      M    90\n",
      "1      Yuvasri   18      F    76\n",
      "2    Poovannan   19      M   NaN\n",
      "3    Sabharish   20      M    74\n",
      "4  Sangamithra   18      F    65\n",
      "5      Rithika   17      F   NaN\n",
      "6      Rubasri   19      F    71\n"
     ]
    }
   ],
   "source": [
    "#convert into datafram\n",
    "df=pd.DataFrame(data)\n",
    "#display data\n",
    "print(\"Original DataFrame:\\n\",df)\n",
    "#convert average\n",
    "c=avg=0\n",
    "for ele in df['Marks']:\n",
    "    if str(ele).isnumeric():\n",
    "        c+=1\n",
    "        avg+=ele\n",
    "        avg/=c"
   ]
  },
  {
   "cell_type": "code",
   "execution_count": 6,
   "id": "67a3a4dd",
   "metadata": {},
   "outputs": [
    {
     "name": "stdout",
     "output_type": "stream",
     "text": [
      "{'Name': ['Sai', 'Yuvasri', 'Poovannan', 'Sabharish', 'Sangamithra', 'Rithika', 'Rubasri'], 'Age': [20, 18, 19, 20, 18, 17, 19], 'Gender': ['M', 'F', 'M', 'M', 'F', 'F', 'F'], 'Marks': [90, 76, 'NaN', 74, 65, 'NaN', 71]}\n"
     ]
    }
   ],
   "source": [
    "#Replace missing values\n",
    "df=df.replace(to_replace=\"NaN\",value=avg)\n",
    "print(data)"
   ]
  },
  {
   "cell_type": "code",
   "execution_count": 7,
   "id": "db7cd4a0",
   "metadata": {},
   "outputs": [
    {
     "name": "stdout",
     "output_type": "stream",
     "text": [
      "\n",
      "Replacing NaN with average marks:\n",
      "           Name  Age Gender      Marks\n",
      "0          Sai   20      M  90.000000\n",
      "1      Yuvasri   18      F  76.000000\n",
      "2    Poovannan   19      M  20.066667\n",
      "3    Sabharish   20      M  74.000000\n",
      "4  Sangamithra   18      F  65.000000\n",
      "5      Rithika   17      F  20.066667\n",
      "6      Rubasri   19      F  71.000000\n"
     ]
    }
   ],
   "source": [
    "#Display data\n",
    "print(\"\\nReplacing NaN with average marks:\\n\",df)"
   ]
  },
  {
   "cell_type": "code",
   "execution_count": 10,
   "id": "9d185325",
   "metadata": {},
   "outputs": [
    {
     "name": "stdout",
     "output_type": "stream",
     "text": [
      "      Name  Age Gender  Marks\n",
      "0      Sai   20      M   90.0\n",
      "1  Yuvasri   18      F   76.0\n"
     ]
    }
   ],
   "source": [
    "#Filter top scoring students\n",
    "df=df[df['Marks']>=75]\n",
    "print(df)"
   ]
  },
  {
   "cell_type": "code",
   "execution_count": 11,
   "id": "b19e05d2",
   "metadata": {},
   "outputs": [
    {
     "name": "stdout",
     "output_type": "stream",
     "text": [
      "      Name Gender  Marks\n",
      "0      Sai      M   90.0\n",
      "1  Yuvasri      F   76.0\n"
     ]
    }
   ],
   "source": [
    "#Remove age row\n",
    "df=df.drop(['Age'],axis=1)\n",
    "print(df)"
   ]
  },
  {
   "cell_type": "code",
   "execution_count": 12,
   "id": "a0f7eed6",
   "metadata": {},
   "outputs": [
    {
     "name": "stdout",
     "output_type": "stream",
     "text": [
      "\n",
      "Filtering and Dropping func:\n",
      "       Name Gender  Marks\n",
      "0      Sai      M   90.0\n",
      "1  Yuvasri      F   76.0\n",
      "      Name Gender  Marks\n",
      "0      Sai      M   90.0\n",
      "1  Yuvasri      F   76.0\n"
     ]
    }
   ],
   "source": [
    "#Display data\n",
    "print(\"\\nFiltering and Dropping func:\\n\",df)\n",
    "print(df)"
   ]
  },
  {
   "cell_type": "code",
   "execution_count": null,
   "id": "4b5420c6",
   "metadata": {},
   "outputs": [],
   "source": []
  }
 ],
 "metadata": {
  "kernelspec": {
   "display_name": "Python 3 (ipykernel)",
   "language": "python",
   "name": "python3"
  },
  "language_info": {
   "codemirror_mode": {
    "name": "ipython",
    "version": 3
   },
   "file_extension": ".py",
   "mimetype": "text/x-python",
   "name": "python",
   "nbconvert_exporter": "python",
   "pygments_lexer": "ipython3",
   "version": "3.11.5"
  }
 },
 "nbformat": 4,
 "nbformat_minor": 5
}
